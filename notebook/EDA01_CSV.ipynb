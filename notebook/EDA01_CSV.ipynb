{
 "cells": [
  {
   "cell_type": "markdown",
   "id": "b0c88020",
   "metadata": {},
   "source": [
    "## EDA PROCESS FROM CSV"
   ]
  },
  {
   "cell_type": "markdown",
   "id": "3189cabe",
   "metadata": {},
   "source": [
    "Luis Angel Garcia (2230177)\n"
   ]
  },
  {
   "cell_type": "markdown",
   "id": "239c7517",
   "metadata": {},
   "source": [
    "Libraries"
   ]
  },
  {
   "cell_type": "code",
   "execution_count": 58,
   "id": "ae587585",
   "metadata": {},
   "outputs": [
    {
     "data": {
      "text/plain": [
       "<module 'postgres_setup' from '/mnt/d/Universidad/ETL/workshop2_spotify/notebook/../config_documents/postgres_setup.py'>"
      ]
     },
     "execution_count": 58,
     "metadata": {},
     "output_type": "execute_result"
    }
   ],
   "source": [
    "import pandas as pd\n",
    "import logging\n",
    "import matplotlib.pyplot as plt\n",
    "import seaborn as sns\n",
    "\n",
    "\n",
    "import sys\n",
    "\n",
    "sys.path.append(\"../config_documents\")\n",
    "\n",
    "import postgres_setup as pg\n",
    "import importlib\n",
    "importlib.reload(pg)"
   ]
  },
  {
   "cell_type": "markdown",
   "id": "03c5153d",
   "metadata": {},
   "source": [
    "Loggin config"
   ]
  },
  {
   "cell_type": "code",
   "execution_count": null,
   "id": "a89a0c79",
   "metadata": {},
   "outputs": [],
   "source": [
    "logging.basicConfig(level=logging.INFO, format=\"%(asctime)s - %(levelname)s - %(message)s\")"
   ]
  },
  {
   "cell_type": "markdown",
   "id": "eb366181",
   "metadata": {},
   "source": [
    "Postgress config"
   ]
  },
  {
   "cell_type": "code",
   "execution_count": null,
   "id": "b3be0367",
   "metadata": {},
   "outputs": [],
   "source": [
    "pg.crear_usuario_y_bd()\n",
    "\n",
    "conn = pg.conectar_etl()\n",
    "\n",
    "pg.crear_tabla_spotify_data(conn)\n",
    "pg.crear_tabla_grammy_awards(conn)"
   ]
  },
  {
   "cell_type": "markdown",
   "id": "c19f3f56",
   "metadata": {},
   "source": [
    "Load csv"
   ]
  },
  {
   "cell_type": "code",
   "execution_count": null,
   "id": "6c84ab19",
   "metadata": {},
   "outputs": [],
   "source": [
    "df = pd.read_csv(\"../datasets/spotify_dataset.csv\")\n",
    "logging.info(\"Dataset cargado correctamente.\")"
   ]
  },
  {
   "cell_type": "markdown",
   "id": "03263411",
   "metadata": {},
   "source": [
    "General Analisys"
   ]
  },
  {
   "cell_type": "code",
   "execution_count": null,
   "id": "f15c8a68",
   "metadata": {},
   "outputs": [],
   "source": [
    "logging.info(f\"Dimensiones del dataset: {df.shape}\")\n",
    "logging.info(f\"Columnas: {df.columns.tolist()}\")\n",
    "logging.info(\"Valores nulos por columna:\")\n",
    "logging.info(df.isnull().sum())\n",
    "logging.info(\"Tipos de datos:\")\n",
    "logging.info(df.dtypes)\n",
    "logging.info(\"Estadísticas descriptivas:\")\n",
    "logging.info(df.describe(include='all').transpose())"
   ]
  },
  {
   "cell_type": "markdown",
   "id": "a2ff7ae2",
   "metadata": {},
   "source": [
    "Cleaning"
   ]
  },
  {
   "cell_type": "code",
   "execution_count": null,
   "id": "78c17d48",
   "metadata": {},
   "outputs": [],
   "source": [
    "df.drop(columns=['Unnamed: 0'], inplace=True)\n",
    "logging.info(\"Columna 'Unnamed: 0' eliminada.\")\n",
    "\n",
    "df.drop(columns=['track_id'], inplace=True)\n",
    "logging.info(\"Columna 'track_id' eliminada.\")\n",
    "\n",
    "missing_before = df.isnull().sum().sum()\n",
    "df.dropna(inplace=True)\n",
    "missing_after = df.isnull().sum().sum()\n",
    "logging.info(f\"Se eliminaron {missing_before - missing_after} valores nulos.\")\n",
    "\n",
    "df = df[df['duration_ms'] < 900000] \n",
    "df = df[df['loudness'] > -40]        \n",
    "logging.info(\"Outliers eliminados en 'duration_ms' y 'loudness'.\")\n",
    "\n",
    "df.reset_index(drop=True, inplace=True)\n",
    "logging.info(\"Índice reseteado.\")"
   ]
  },
  {
   "cell_type": "markdown",
   "id": "a5d00fd2",
   "metadata": {},
   "source": [
    "Graphic analysis"
   ]
  },
  {
   "cell_type": "markdown",
   "id": "79dc219a",
   "metadata": {},
   "source": [
    "Load to csv"
   ]
  },
  {
   "cell_type": "code",
   "execution_count": null,
   "id": "9ff9cbb3",
   "metadata": {},
   "outputs": [],
   "source": [
    "df.columns = df.columns.str.strip().str.lower().str.replace(\" \", \"_\")\n",
    "pg.insertar_datos_spotify_data(conn, df)"
   ]
  },
  {
   "cell_type": "code",
   "execution_count": null,
   "id": "28a47874",
   "metadata": {},
   "outputs": [],
   "source": [
    "df['duration_min'] = df['duration_ms'] / 60000\n",
    "\n",
    "features = ['popularity', 'duration_min', 'danceability', 'energy', 'valence', 'tempo']\n",
    "\n",
    "for col in features:\n",
    "    plt.figure(figsize=(8, 4))\n",
    "    sns.histplot(df[col], bins=40, kde=True, color='skyblue')\n",
    "    plt.axvline(df[col].mean(), color='red', linestyle='--', label=f\"Media: {df[col].mean():.2f}\")\n",
    "    plt.axvline(df[col].median(), color='green', linestyle='--', label=f\"Mediana: {df[col].median():.2f}\")\n",
    "    plt.title(f'Distribución de {col}')\n",
    "    plt.xlabel(col)\n",
    "    plt.ylabel('Frecuencia')\n",
    "    plt.legend()\n",
    "    plt.tight_layout()\n",
    "    plt.show()"
   ]
  },
  {
   "cell_type": "code",
   "execution_count": null,
   "id": "e6e2aa29",
   "metadata": {},
   "outputs": [],
   "source": [
    "df['duration_min'] = df['duration_ms'] / 60000\n",
    "\n",
    "atributos = ['duration_min', 'tempo']\n",
    "\n",
    "for col in atributos:\n",
    "    plt.figure(figsize=(6, 4))\n",
    "    sns.boxplot(x=df[col], color='lightblue')\n",
    "    plt.title(f'Boxplot de {col}')\n",
    "    plt.xlabel(col)\n",
    "    plt.tight_layout()\n",
    "    plt.show()\n"
   ]
  },
  {
   "cell_type": "code",
   "execution_count": null,
   "id": "2417b4f3",
   "metadata": {},
   "outputs": [
    {
     "name": "stdout",
     "output_type": "stream",
     "text": [
      "6.5339\n",
      "0.720766666666667\n"
     ]
    },
    {
     "data": {
      "text/html": [
       "<div>\n",
       "<style scoped>\n",
       "    .dataframe tbody tr th:only-of-type {\n",
       "        vertical-align: middle;\n",
       "    }\n",
       "\n",
       "    .dataframe tbody tr th {\n",
       "        vertical-align: top;\n",
       "    }\n",
       "\n",
       "    .dataframe thead th {\n",
       "        text-align: right;\n",
       "    }\n",
       "</style>\n",
       "<table border=\"1\" class=\"dataframe\">\n",
       "  <thead>\n",
       "    <tr style=\"text-align: right;\">\n",
       "      <th></th>\n",
       "      <th>track_name</th>\n",
       "      <th>artists</th>\n",
       "      <th>duration_min</th>\n",
       "    </tr>\n",
       "  </thead>\n",
       "  <tbody>\n",
       "    <tr>\n",
       "      <th>253</th>\n",
       "      <td>Rain - Long Ver.</td>\n",
       "      <td>Motohiro Hata</td>\n",
       "      <td>7.455100</td>\n",
       "    </tr>\n",
       "    <tr>\n",
       "      <th>650</th>\n",
       "      <td>いきのこり●ぼくら</td>\n",
       "      <td>Ichiko Aoba</td>\n",
       "      <td>6.768383</td>\n",
       "    </tr>\n",
       "    <tr>\n",
       "      <th>752</th>\n",
       "      <td>Bad News Is Coming</td>\n",
       "      <td>Luther Allison</td>\n",
       "      <td>7.425550</td>\n",
       "    </tr>\n",
       "    <tr>\n",
       "      <th>851</th>\n",
       "      <td>All Too Well - Jake's Version</td>\n",
       "      <td>John Elliott</td>\n",
       "      <td>9.634400</td>\n",
       "    </tr>\n",
       "    <tr>\n",
       "      <th>896</th>\n",
       "      <td>Alone in the Dark Mansion of Madness</td>\n",
       "      <td>Harley Poe</td>\n",
       "      <td>6.731850</td>\n",
       "    </tr>\n",
       "    <tr>\n",
       "      <th>...</th>\n",
       "      <td>...</td>\n",
       "      <td>...</td>\n",
       "      <td>...</td>\n",
       "    </tr>\n",
       "    <tr>\n",
       "      <th>113740</th>\n",
       "      <td>Divine / Sailing / Time / Hymn - Acoustic</td>\n",
       "      <td>Phil Wickham</td>\n",
       "      <td>7.739967</td>\n",
       "    </tr>\n",
       "    <tr>\n",
       "      <th>113753</th>\n",
       "      <td>Hope Of The Ages - Live</td>\n",
       "      <td>Hillsong Worship;Reuben Morgan</td>\n",
       "      <td>6.610767</td>\n",
       "    </tr>\n",
       "    <tr>\n",
       "      <th>113767</th>\n",
       "      <td>Open Space</td>\n",
       "      <td>Housefires</td>\n",
       "      <td>7.616350</td>\n",
       "    </tr>\n",
       "    <tr>\n",
       "      <th>113777</th>\n",
       "      <td>Ain’t No Grave - Live</td>\n",
       "      <td>Bethel Music;Molly Skaggs</td>\n",
       "      <td>8.221550</td>\n",
       "    </tr>\n",
       "    <tr>\n",
       "      <th>113796</th>\n",
       "      <td>Stay (You Are Good) - Live</td>\n",
       "      <td>Planetshakers</td>\n",
       "      <td>7.706617</td>\n",
       "    </tr>\n",
       "  </tbody>\n",
       "</table>\n",
       "<p>5528 rows × 3 columns</p>\n",
       "</div>"
      ],
      "text/plain": [
       "                                       track_name  \\\n",
       "253                              Rain - Long Ver.   \n",
       "650                                     いきのこり●ぼくら   \n",
       "752                            Bad News Is Coming   \n",
       "851                 All Too Well - Jake's Version   \n",
       "896          Alone in the Dark Mansion of Madness   \n",
       "...                                           ...   \n",
       "113740  Divine / Sailing / Time / Hymn - Acoustic   \n",
       "113753                    Hope Of The Ages - Live   \n",
       "113767                                 Open Space   \n",
       "113777                      Ain’t No Grave - Live   \n",
       "113796                 Stay (You Are Good) - Live   \n",
       "\n",
       "                               artists  duration_min  \n",
       "253                      Motohiro Hata      7.455100  \n",
       "650                        Ichiko Aoba      6.768383  \n",
       "752                     Luther Allison      7.425550  \n",
       "851                       John Elliott      9.634400  \n",
       "896                         Harley Poe      6.731850  \n",
       "...                                ...           ...  \n",
       "113740                    Phil Wickham      7.739967  \n",
       "113753  Hillsong Worship;Reuben Morgan      6.610767  \n",
       "113767                      Housefires      7.616350  \n",
       "113777       Bethel Music;Molly Skaggs      8.221550  \n",
       "113796                   Planetshakers      7.706617  \n",
       "\n",
       "[5528 rows x 3 columns]"
      ]
     },
     "execution_count": 60,
     "metadata": {},
     "output_type": "execute_result"
    }
   ],
   "source": [
    "Q1 = df['duration_min'].quantile(0.25)\n",
    "Q3 = df['duration_min'].quantile(0.75)\n",
    "IQR = Q3 - Q1\n",
    "\n",
    "limite_inferior = Q1 - 1.5 * IQR\n",
    "limite_superior = Q3 + 1.5 * IQR\n",
    "\n",
    "canciones_outliers = df[\n",
    "    (df['duration_min'] < limite_inferior) | \n",
    "    (df['duration_min'] > limite_superior)\n",
    "]\n",
    "print(limite_superior)\n",
    "print(limite_inferior)\n",
    "canciones_outliers[['track_name', 'artists', 'duration_min']]"
   ]
  }
 ],
 "metadata": {
  "kernelspec": {
   "display_name": "venv",
   "language": "python",
   "name": "python3"
  },
  "language_info": {
   "codemirror_mode": {
    "name": "ipython",
    "version": 3
   },
   "file_extension": ".py",
   "mimetype": "text/x-python",
   "name": "python",
   "nbconvert_exporter": "python",
   "pygments_lexer": "ipython3",
   "version": "3.12.3"
  }
 },
 "nbformat": 4,
 "nbformat_minor": 5
}
