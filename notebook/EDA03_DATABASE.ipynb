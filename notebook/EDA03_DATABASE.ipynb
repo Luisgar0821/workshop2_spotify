{
 "cells": [
  {
   "cell_type": "markdown",
   "id": "2ebc401d",
   "metadata": {},
   "source": [
    "## EDA PROCESS DATABASE"
   ]
  },
  {
   "cell_type": "markdown",
   "id": "825acb8a",
   "metadata": {},
   "source": [
    "Luis Angel Garcia (2230177)"
   ]
  },
  {
   "cell_type": "markdown",
   "id": "e94a94e1",
   "metadata": {},
   "source": [
    "Libraries"
   ]
  },
  {
   "cell_type": "code",
   "execution_count": 50,
   "id": "9d18f800",
   "metadata": {},
   "outputs": [],
   "source": [
    "import matplotlib.pyplot as plt\n",
    "import pandas as pd\n",
    "import sys\n",
    "\n",
    "sys.path.append(\"../config_documents\")\n",
    "\n",
    "import postgres_setup as pg\n",
    "import importlib\n",
    "\n"
   ]
  },
  {
   "cell_type": "markdown",
   "id": "7474e289",
   "metadata": {},
   "source": [
    "Postgres conection a creation users and table"
   ]
  },
  {
   "cell_type": "code",
   "execution_count": 51,
   "id": "3f40afd0",
   "metadata": {},
   "outputs": [
    {
     "name": "stdout",
     "output_type": "stream",
     "text": [
      "El usuario 'etl_user' ya existe.\n",
      "La base de datos 'spotify_analysis' ya existe.\n",
      "Tabla 'grammy_awards' verificada/creada.\n"
     ]
    }
   ],
   "source": [
    "importlib.reload(pg)\n",
    "pg.crear_usuario_y_bd()\n",
    "\n",
    "conn = pg.conectar_etl()\n",
    "\n",
    "pg.crear_tabla_grammy_awards(conn)"
   ]
  },
  {
   "cell_type": "markdown",
   "id": "9eaf018f",
   "metadata": {},
   "source": [
    "Load grammy csv"
   ]
  },
  {
   "cell_type": "code",
   "execution_count": 52,
   "id": "3b3fa7ee",
   "metadata": {},
   "outputs": [
    {
     "name": "stdout",
     "output_type": "stream",
     "text": [
      "['year', 'title', 'published_at', 'updated_at', 'category', 'nominee', 'artist', 'workers', 'img', 'winner']\n",
      "Los datos ya están insertados. No se duplicaron registros.\n"
     ]
    }
   ],
   "source": [
    "df = pd.read_csv(\"../datasets/the_grammy_awards.csv\").fillna(\"TEMP_NULL\")\n",
    "\n",
    "print(df.columns.tolist())\n",
    "\n",
    "df.columns = df.columns.str.strip().str.lower().str.replace(\" \", \"_\")\n",
    "df = df.rename(columns={\"year\": \"ceremony_year\",\n",
    "                        \"title\": \"work\"\n",
    "                        })\n",
    "\n",
    "pg.insertar_datos_grammy_awards(conn, df)\n",
    "\n",
    "\n"
   ]
  },
  {
   "cell_type": "markdown",
   "id": "de052714",
   "metadata": {},
   "source": [
    "read table from SQL"
   ]
  },
  {
   "cell_type": "code",
   "execution_count": null,
   "id": "68636bc4",
   "metadata": {},
   "outputs": [],
   "source": [
    "df = pd.read_sql(\"SELECT * FROM grammy_awards\", conn)\n",
    "\n",
    "df.head()\n",
    "df.info()"
   ]
  },
  {
   "cell_type": "markdown",
   "id": "820d63be",
   "metadata": {},
   "source": [
    "Close conection"
   ]
  },
  {
   "cell_type": "code",
   "execution_count": 54,
   "id": "a028c982",
   "metadata": {},
   "outputs": [],
   "source": [
    "conn.close()"
   ]
  }
 ],
 "metadata": {
  "kernelspec": {
   "display_name": "venv",
   "language": "python",
   "name": "python3"
  },
  "language_info": {
   "codemirror_mode": {
    "name": "ipython",
    "version": 3
   },
   "file_extension": ".py",
   "mimetype": "text/x-python",
   "name": "python",
   "nbconvert_exporter": "python",
   "pygments_lexer": "ipython3",
   "version": "3.12.3"
  }
 },
 "nbformat": 4,
 "nbformat_minor": 5
}
