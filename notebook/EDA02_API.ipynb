{
 "cells": [
  {
   "cell_type": "markdown",
   "id": "ac5e558d",
   "metadata": {},
   "source": [
    "## API EDA PROCESS"
   ]
  },
  {
   "cell_type": "markdown",
   "id": "7ae84829",
   "metadata": {},
   "source": [
    "Luis Angel Garcia (2230177)"
   ]
  },
  {
   "cell_type": "markdown",
   "id": "d078309d",
   "metadata": {},
   "source": [
    "Libraries"
   ]
  },
  {
   "cell_type": "code",
   "execution_count": 14,
   "id": "e94cde98",
   "metadata": {},
   "outputs": [],
   "source": [
    "import spotipy\n",
    "from spotipy.oauth2 import SpotifyOAuth\n",
    "import pandas as pd"
   ]
  },
  {
   "cell_type": "markdown",
   "id": "9ee00c1b",
   "metadata": {},
   "source": [
    "External configuration load"
   ]
  },
  {
   "cell_type": "code",
   "execution_count": 15,
   "id": "c2dfc041",
   "metadata": {},
   "outputs": [],
   "source": [
    "def leer_configuracion_spotify(ruta_archivo):\n",
    "    config = {}\n",
    "    with open(ruta_archivo, 'r') as archivo:\n",
    "        for linea in archivo:\n",
    "            if '=' in linea:\n",
    "                clave, valor = linea.strip().split('=', 1)\n",
    "                config[clave.strip()] = valor.strip()\n",
    "    return config\n",
    "\n",
    "config = leer_configuracion_spotify(\"../config_documents/spotify_config.txt\")"
   ]
  },
  {
   "cell_type": "markdown",
   "id": "5caf51f5",
   "metadata": {},
   "source": [
    "User autentification"
   ]
  },
  {
   "cell_type": "code",
   "execution_count": 16,
   "id": "7160c01a",
   "metadata": {},
   "outputs": [],
   "source": [
    "sp = spotipy.Spotify(auth_manager=SpotifyOAuth(\n",
    "    client_id=config['CLIENT_ID'],\n",
    "    client_secret=config['CLIENT_SECRET'],\n",
    "    redirect_uri=config['REDIRECT_URI'],\n",
    "    scope=\"user-top-read\",\n",
    "    open_browser=False\n",
    "))"
   ]
  },
  {
   "cell_type": "markdown",
   "id": "e48fdfba",
   "metadata": {},
   "source": [
    "Top user artist"
   ]
  },
  {
   "cell_type": "code",
   "execution_count": 17,
   "id": "dc0ecc27",
   "metadata": {},
   "outputs": [],
   "source": [
    "top_artistas = sp.current_user_top_artists(limit=50, time_range='medium_term')"
   ]
  },
  {
   "cell_type": "markdown",
   "id": "efb8e276",
   "metadata": {},
   "source": [
    "DF with user TOP artist"
   ]
  },
  {
   "cell_type": "code",
   "execution_count": 18,
   "id": "4baed13b",
   "metadata": {},
   "outputs": [
    {
     "data": {
      "text/html": [
       "<div>\n",
       "<style scoped>\n",
       "    .dataframe tbody tr th:only-of-type {\n",
       "        vertical-align: middle;\n",
       "    }\n",
       "\n",
       "    .dataframe tbody tr th {\n",
       "        vertical-align: top;\n",
       "    }\n",
       "\n",
       "    .dataframe thead th {\n",
       "        text-align: right;\n",
       "    }\n",
       "</style>\n",
       "<table border=\"1\" class=\"dataframe\">\n",
       "  <thead>\n",
       "    <tr style=\"text-align: right;\">\n",
       "      <th></th>\n",
       "      <th>artist_id</th>\n",
       "      <th>artist_name</th>\n",
       "      <th>popularity</th>\n",
       "      <th>followers</th>\n",
       "      <th>genres</th>\n",
       "    </tr>\n",
       "  </thead>\n",
       "  <tbody>\n",
       "    <tr>\n",
       "      <th>0</th>\n",
       "      <td>2LRoIwlKmHjgvigdNGBHNo</td>\n",
       "      <td>Feid</td>\n",
       "      <td>90</td>\n",
       "      <td>16797812</td>\n",
       "      <td>reggaeton, urbano latino</td>\n",
       "    </tr>\n",
       "    <tr>\n",
       "      <th>1</th>\n",
       "      <td>4q3ewBCX7sLwd24euuV69X</td>\n",
       "      <td>Bad Bunny</td>\n",
       "      <td>100</td>\n",
       "      <td>93519270</td>\n",
       "      <td>reggaeton, trap latino, latin, urbano latino</td>\n",
       "    </tr>\n",
       "    <tr>\n",
       "      <th>2</th>\n",
       "      <td>7iK8PXO48WeuP03g8YR51W</td>\n",
       "      <td>Myke Towers</td>\n",
       "      <td>89</td>\n",
       "      <td>19480369</td>\n",
       "      <td>reggaeton, trap latino, urbano latino</td>\n",
       "    </tr>\n",
       "    <tr>\n",
       "      <th>3</th>\n",
       "      <td>33ScadVnbm2X8kkUqOkC6Z</td>\n",
       "      <td>Don Omar</td>\n",
       "      <td>85</td>\n",
       "      <td>14330960</td>\n",
       "      <td>reggaeton, urbano latino</td>\n",
       "    </tr>\n",
       "    <tr>\n",
       "      <th>4</th>\n",
       "      <td>0ys2OFYzWYB5hRDLCsBqxt</td>\n",
       "      <td>Fuerza Regida</td>\n",
       "      <td>91</td>\n",
       "      <td>14955647</td>\n",
       "      <td>corrido, corridos tumbados, corridos bélicos, ...</td>\n",
       "    </tr>\n",
       "  </tbody>\n",
       "</table>\n",
       "</div>"
      ],
      "text/plain": [
       "                artist_id    artist_name  popularity  followers  \\\n",
       "0  2LRoIwlKmHjgvigdNGBHNo           Feid          90   16797812   \n",
       "1  4q3ewBCX7sLwd24euuV69X      Bad Bunny         100   93519270   \n",
       "2  7iK8PXO48WeuP03g8YR51W    Myke Towers          89   19480369   \n",
       "3  33ScadVnbm2X8kkUqOkC6Z       Don Omar          85   14330960   \n",
       "4  0ys2OFYzWYB5hRDLCsBqxt  Fuerza Regida          91   14955647   \n",
       "\n",
       "                                              genres  \n",
       "0                           reggaeton, urbano latino  \n",
       "1       reggaeton, trap latino, latin, urbano latino  \n",
       "2              reggaeton, trap latino, urbano latino  \n",
       "3                           reggaeton, urbano latino  \n",
       "4  corrido, corridos tumbados, corridos bélicos, ...  "
      ]
     },
     "execution_count": 18,
     "metadata": {},
     "output_type": "execute_result"
    }
   ],
   "source": [
    "artistas_data = []\n",
    "for artista in top_artistas['items']:\n",
    "    artistas_data.append({\n",
    "        'artist_id': artista['id'],\n",
    "        'artist_name': artista['name'],\n",
    "        'popularity': artista['popularity'],\n",
    "        'followers': artista['followers']['total'],\n",
    "        'genres': ', '.join(artista['genres'])\n",
    "    })\n",
    "\n",
    "df_top_artists = pd.DataFrame(artistas_data)\n",
    "df_top_artists.head()"
   ]
  }
 ],
 "metadata": {
  "kernelspec": {
   "display_name": "venv",
   "language": "python",
   "name": "python3"
  },
  "language_info": {
   "codemirror_mode": {
    "name": "ipython",
    "version": 3
   },
   "file_extension": ".py",
   "mimetype": "text/x-python",
   "name": "python",
   "nbconvert_exporter": "python",
   "pygments_lexer": "ipython3",
   "version": "3.12.3"
  }
 },
 "nbformat": 4,
 "nbformat_minor": 5
}
