{
 "cells": [
  {
   "cell_type": "markdown",
   "id": "ac5e558d",
   "metadata": {},
   "source": [
    "## API EDA PROCESS"
   ]
  },
  {
   "cell_type": "markdown",
   "id": "7ae84829",
   "metadata": {},
   "source": [
    "Luis Angel Garcia (2230177)"
   ]
  },
  {
   "cell_type": "markdown",
   "id": "d078309d",
   "metadata": {},
   "source": [
    "Libraries"
   ]
  },
  {
   "cell_type": "code",
   "execution_count": 17,
   "id": "e94cde98",
   "metadata": {},
   "outputs": [
    {
     "data": {
      "text/plain": [
       "<module 'postgres_setup' from '/mnt/d/Universidad/ETL/workshop2_spotify/notebook/../config_documents/postgres_setup.py'>"
      ]
     },
     "execution_count": 17,
     "metadata": {},
     "output_type": "execute_result"
    }
   ],
   "source": [
    "import spotipy\n",
    "from spotipy.oauth2 import SpotifyClientCredentials\n",
    "import pandas as pd\n",
    "\n",
    "import sys\n",
    "\n",
    "sys.path.append(\"../config_documents\")\n",
    "\n",
    "import postgres_setup as pg\n",
    "import importlib\n",
    "importlib.reload(pg)"
   ]
  },
  {
   "cell_type": "markdown",
   "id": "9ee00c1b",
   "metadata": {},
   "source": [
    "External configuration load"
   ]
  },
  {
   "cell_type": "code",
   "execution_count": 8,
   "id": "c2dfc041",
   "metadata": {},
   "outputs": [],
   "source": [
    "def leer_configuracion_spotify(ruta_archivo):\n",
    "    config = {}\n",
    "    with open(ruta_archivo, 'r') as archivo:\n",
    "        for linea in archivo:\n",
    "            if '=' in linea:\n",
    "                clave, valor = linea.strip().split('=', 1)\n",
    "                config[clave.strip()] = valor.strip()\n",
    "    return config\n",
    "\n",
    "config = leer_configuracion_spotify(\"../config_documents/spotify_config.txt\")"
   ]
  },
  {
   "cell_type": "markdown",
   "id": "bded1dd6",
   "metadata": {},
   "source": [
    "read artist from spotify_api_artist"
   ]
  },
  {
   "cell_type": "code",
   "execution_count": 12,
   "id": "900b0e2d",
   "metadata": {},
   "outputs": [],
   "source": [
    "artistas_colombianos = []\n",
    "with open(\"../config_documents/spotify_api_artist.txt\", 'r', encoding='utf-8') as archivo:\n",
    "    for linea in archivo:\n",
    "        if linea.strip():\n",
    "            artistas_colombianos.append(linea.strip())"
   ]
  },
  {
   "cell_type": "markdown",
   "id": "5caf51f5",
   "metadata": {},
   "source": [
    "User autentification"
   ]
  },
  {
   "cell_type": "code",
   "execution_count": 13,
   "id": "7160c01a",
   "metadata": {},
   "outputs": [],
   "source": [
    "sp = spotipy.Spotify(auth_manager=SpotifyClientCredentials(\n",
    "    client_id=config['CLIENT_ID'],\n",
    "    client_secret=config['CLIENT_SECRET']\n",
    "))"
   ]
  },
  {
   "cell_type": "markdown",
   "id": "e48fdfba",
   "metadata": {},
   "source": [
    "search artist from api"
   ]
  },
  {
   "cell_type": "code",
   "execution_count": 14,
   "id": "dc0ecc27",
   "metadata": {},
   "outputs": [],
   "source": [
    "artistas_data = []\n",
    "for nombre in artistas_colombianos:\n",
    "    resultado = sp.search(q=f\"artist:{nombre}\", type='artist', limit=1)\n",
    "    if resultado['artists']['items']:\n",
    "        artista = resultado['artists']['items'][0]\n",
    "        artistas_data.append({\n",
    "            'artist_id': artista['id'],\n",
    "            'artist_name': artista['name'],\n",
    "            'popularity': artista['popularity'],\n",
    "            'followers': artista['followers']['total'],\n",
    "            'genres': ', '.join(artista['genres'])\n",
    "        })"
   ]
  },
  {
   "cell_type": "markdown",
   "id": "efb8e276",
   "metadata": {},
   "source": [
    "DF with user TOP artist"
   ]
  },
  {
   "cell_type": "code",
   "execution_count": null,
   "id": "4baed13b",
   "metadata": {},
   "outputs": [],
   "source": [
    "df = pd.DataFrame(artistas_data)\n",
    "df"
   ]
  },
  {
   "cell_type": "markdown",
   "id": "ed307634",
   "metadata": {},
   "source": [
    "load to postgres"
   ]
  },
  {
   "cell_type": "code",
   "execution_count": 18,
   "id": "da0dd058",
   "metadata": {},
   "outputs": [
    {
     "name": "stdout",
     "output_type": "stream",
     "text": [
      "Tabla 'spotify_artists_api' verificada/creada.\n",
      "Datos insertados en 'spotify_artists_api'\n"
     ]
    }
   ],
   "source": [
    "df.columns = df.columns.str.strip().str.lower().str.replace(\" \", \"_\")\n",
    "conn = pg.conectar_etl()\n",
    "pg.crear_tabla_spotify_artists_api(conn)\n",
    "pg.insertar_datos_spotify_artists_api(conn,df)"
   ]
  }
 ],
 "metadata": {
  "kernelspec": {
   "display_name": "venv",
   "language": "python",
   "name": "python3"
  },
  "language_info": {
   "codemirror_mode": {
    "name": "ipython",
    "version": 3
   },
   "file_extension": ".py",
   "mimetype": "text/x-python",
   "name": "python",
   "nbconvert_exporter": "python",
   "pygments_lexer": "ipython3",
   "version": "3.12.3"
  }
 },
 "nbformat": 4,
 "nbformat_minor": 5
}
